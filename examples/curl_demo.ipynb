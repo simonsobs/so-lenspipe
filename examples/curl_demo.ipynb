{
 "cells": [
  {
   "cell_type": "code",
   "execution_count": 1,
   "metadata": {},
   "outputs": [],
   "source": [
    "import os\n",
    "os.environ[\"DISABLE_MPI\"]=\"true\"\n",
    "import numpy as np\n",
    "import solenspipe\n",
    "from pixell import enmap, curvedsky, lensing\n",
    "from falafel import qe,utils\n",
    "import pytempura"
   ]
  },
  {
   "cell_type": "markdown",
   "metadata": {},
   "source": [
    "Read map and mask"
   ]
  },
  {
   "cell_type": "code",
   "execution_count": 3,
   "metadata": {},
   "outputs": [],
   "source": [
    "map_filename = \"/global/cscratch1/sd/jia_qu/maps/kcoadd_IQU_18no220.fits\"\n",
    "map_data=enmap.read_map(map_filename)\n",
    "\n",
    "mask_filename = f\"/global/cscratch1/sd/jia_qu/maps/downgrade/aggmask.fits\"\n",
    "mask = enmap.read_map(mask_filename) "
   ]
  },
  {
   "cell_type": "markdown",
   "metadata": {},
   "source": [
    "Set up various things \n",
    "- ell range \n",
    "- geometric things like pixelization \n",
    "- Just use TT for now"
   ]
  },
  {
   "cell_type": "code",
   "execution_count": 4,
   "metadata": {},
   "outputs": [],
   "source": [
    "lmin=600\n",
    "lmax=2000\n",
    "shape,wcs = mask.shape[-2:],mask.wcs\n",
    "nside = None\n",
    "healpix = False\n",
    "res_arcmin = np.rad2deg(enmap.pixshape(shape, wcs)[0])*60.\n",
    "mlmax = int(4000 * (2.0/res_arcmin))\n",
    "pmap = enmap.pixsizemap(shape,wcs)\n",
    "px = qe.pixelization(shape=shape,wcs=wcs)\n",
    "est1=est2=\"TT\""
   ]
  },
  {
   "cell_type": "markdown",
   "metadata": {},
   "source": [
    "Need to initialize some theory stuff. What does grad=True do?"
   ]
  },
  {
   "cell_type": "code",
   "execution_count": 6,
   "metadata": {},
   "outputs": [],
   "source": [
    "grad=True\n",
    "ucls,tcls = utils.get_theory_dicts(grad=grad)"
   ]
  },
  {
   "cell_type": "markdown",
   "metadata": {},
   "source": [
    "Get the normalizations"
   ]
  },
  {
   "cell_type": "code",
   "execution_count": 8,
   "metadata": {},
   "outputs": [],
   "source": [
    "norm_stuff = solenspipe.get_tempura_norms(est1,est2,ucls,tcls,lmin,lmax,mlmax)\n",
    "bh,ells,Als,R_src_tt,Nl_g,Nl_c,Nl_g_bh=norm_stuff"
   ]
  },
  {
   "cell_type": "code",
   "execution_count": 35,
   "metadata": {},
   "outputs": [
    {
     "name": "stdout",
     "output_type": "stream",
     "text": [
      "(2, 8000)\n"
     ]
    }
   ],
   "source": [
    "print(Als['TT'].shape)"
   ]
  },
  {
   "cell_type": "markdown",
   "metadata": {},
   "source": [
    "Apply mask, and get $a_{lm}$s (a tuple with the $a_{lm}$s for T,E,B)"
   ]
  },
  {
   "cell_type": "code",
   "execution_count": 9,
   "metadata": {},
   "outputs": [],
   "source": [
    "masked_map_data = map_data * mask\n",
    "alms = curvedsky.map2alm(masked_map_data,lmax=mlmax)\n",
    "#t_alm,e_alm,b_alm = solint.get_kmap(channel,seed,lmin,lmax,filtered=True)"
   ]
  },
  {
   "cell_type": "markdown",
   "metadata": {},
   "source": [
    "Filter these"
   ]
  },
  {
   "cell_type": "code",
   "execution_count": 10,
   "metadata": {},
   "outputs": [
    {
     "name": "stderr",
     "output_type": "stream",
     "text": [
      "/global/u1/m/maccrann/cmb/lensing/code/falafel/falafel/utils.py:90: RuntimeWarning: divide by zero encountered in true_divide\n",
      "  filt_T[2:] = 1./tcltt[2:]\n",
      "/global/u1/m/maccrann/cmb/lensing/code/falafel/falafel/utils.py:91: RuntimeWarning: divide by zero encountered in true_divide\n",
      "  filt_E[2:] = 1./tclee[2:]\n",
      "/global/u1/m/maccrann/cmb/lensing/code/falafel/falafel/utils.py:92: RuntimeWarning: divide by zero encountered in true_divide\n",
      "  filt_B[2:] = 1./tclbb[2:]\n"
     ]
    }
   ],
   "source": [
    "alms_filtered = utils.isotropic_filter(alms,tcls,lmin,lmax,ignore_te=True)"
   ]
  },
  {
   "cell_type": "markdown",
   "metadata": {},
   "source": [
    "Ok, now we can do our reconstruction. We need to define our \"qfunc\", which is the function that actually does this. We use the `solenspipe.get_qfunc` function to set this. We provide the normalization Als, so should not need to apply that again to the resulting reconstructed alms."
   ]
  },
  {
   "cell_type": "code",
   "execution_count": 11,
   "metadata": {},
   "outputs": [],
   "source": [
    "qfunc = solenspipe.get_qfunc(px,ucls,mlmax,\n",
    "                             est1,Al1=Als[est1],\n",
    "                             est2=None,Al2=None,\n",
    "                             R12=None)"
   ]
  },
  {
   "cell_type": "markdown",
   "metadata": {},
   "source": [
    "We can do the reconstruction now by calling the qfunc with our alms"
   ]
  },
  {
   "cell_type": "code",
   "execution_count": 12,
   "metadata": {},
   "outputs": [],
   "source": [
    "recon_phi_alms = qfunc(alms,alms)"
   ]
  },
  {
   "cell_type": "code",
   "execution_count": 39,
   "metadata": {},
   "outputs": [],
   "source": [
    "recon_kappa_alms = lensing.phi_to_kappa(recon_alms)"
   ]
  },
  {
   "cell_type": "code",
   "execution_count": 40,
   "metadata": {},
   "outputs": [],
   "source": [
    "kappa_cl = curvedsky.alm2cl(recon_kappa_alms[0],recon_kappa_alms[0])\n",
    "curl_cl = curvedsky.alm2cl(recon_kappa_alms[1],recon_kappa_alms[1])"
   ]
  },
  {
   "cell_type": "markdown",
   "metadata": {},
   "source": [
    "Apply wfactor"
   ]
  },
  {
   "cell_type": "code",
   "execution_count": 1,
   "metadata": {},
   "outputs": [
    {
     "ename": "NameError",
     "evalue": "name 'solenspipe' is not defined",
     "output_type": "error",
     "traceback": [
      "\u001b[0;31m---------------------------------------------------------------------------\u001b[0m",
      "\u001b[0;31mNameError\u001b[0m                                 Traceback (most recent call last)",
      "\u001b[0;32m<ipython-input-1-32c74da37bc6>\u001b[0m in \u001b[0;36m<module>\u001b[0;34m\u001b[0m\n\u001b[0;32m----> 1\u001b[0;31m \u001b[0mw4\u001b[0m \u001b[0;34m=\u001b[0m \u001b[0msolenspipe\u001b[0m\u001b[0;34m.\u001b[0m\u001b[0mwfactor\u001b[0m\u001b[0;34m(\u001b[0m\u001b[0;36m4\u001b[0m\u001b[0;34m,\u001b[0m \u001b[0mmask\u001b[0m\u001b[0;34m)\u001b[0m\u001b[0;34m\u001b[0m\u001b[0;34m\u001b[0m\u001b[0m\n\u001b[0m\u001b[1;32m      2\u001b[0m \u001b[0mkappa_cl\u001b[0m \u001b[0;34m/=\u001b[0m \u001b[0mw4\u001b[0m\u001b[0;34m\u001b[0m\u001b[0;34m\u001b[0m\u001b[0m\n\u001b[1;32m      3\u001b[0m \u001b[0mcurl_cl\u001b[0m \u001b[0;34m/=\u001b[0m \u001b[0mw4\u001b[0m\u001b[0;34m\u001b[0m\u001b[0;34m\u001b[0m\u001b[0m\n",
      "\u001b[0;31mNameError\u001b[0m: name 'solenspipe' is not defined"
     ]
    }
   ],
   "source": [
    "w4 = solenspipe.wfactor(4, mask)\n",
    "kappa_cl /= w4\n",
    "curl_cl /= w4"
   ]
  },
  {
   "cell_type": "markdown",
   "metadata": {},
   "source": [
    "Make a plot - it'll look weird because we've done no bias subtraction"
   ]
  },
  {
   "cell_type": "code",
   "execution_count": 3,
   "metadata": {},
   "outputs": [
    {
     "ename": "NameError",
     "evalue": "name 'np' is not defined",
     "output_type": "error",
     "traceback": [
      "\u001b[0;31m---------------------------------------------------------------------------\u001b[0m",
      "\u001b[0;31mNameError\u001b[0m                                 Traceback (most recent call last)",
      "\u001b[0;32m<ipython-input-3-e9679e43f97e>\u001b[0m in \u001b[0;36m<module>\u001b[0;34m\u001b[0m\n\u001b[1;32m      1\u001b[0m \u001b[0mget_ipython\u001b[0m\u001b[0;34m(\u001b[0m\u001b[0;34m)\u001b[0m\u001b[0;34m.\u001b[0m\u001b[0mrun_line_magic\u001b[0m\u001b[0;34m(\u001b[0m\u001b[0;34m'matplotlib'\u001b[0m\u001b[0;34m,\u001b[0m \u001b[0;34m'inline'\u001b[0m\u001b[0;34m)\u001b[0m\u001b[0;34m\u001b[0m\u001b[0;34m\u001b[0m\u001b[0m\n\u001b[1;32m      2\u001b[0m \u001b[0;32mimport\u001b[0m \u001b[0mpylab\u001b[0m\u001b[0;34m\u001b[0m\u001b[0;34m\u001b[0m\u001b[0m\n\u001b[0;32m----> 3\u001b[0;31m \u001b[0mells\u001b[0m \u001b[0;34m=\u001b[0m \u001b[0mnp\u001b[0m\u001b[0;34m.\u001b[0m\u001b[0marange\u001b[0m\u001b[0;34m(\u001b[0m\u001b[0;36m0\u001b[0m\u001b[0;34m,\u001b[0m\u001b[0mmlmax\u001b[0m\u001b[0;34m+\u001b[0m\u001b[0;36m1\u001b[0m\u001b[0;34m)\u001b[0m\u001b[0;34m\u001b[0m\u001b[0;34m\u001b[0m\u001b[0m\n\u001b[0m\u001b[1;32m      4\u001b[0m \u001b[0mpylab\u001b[0m\u001b[0;34m.\u001b[0m\u001b[0mplot\u001b[0m\u001b[0;34m(\u001b[0m\u001b[0mells\u001b[0m\u001b[0;34m[\u001b[0m\u001b[0;34m:\u001b[0m\u001b[0;36m3000\u001b[0m\u001b[0;34m]\u001b[0m\u001b[0;34m,\u001b[0m\u001b[0mkappa_cl\u001b[0m\u001b[0;34m[\u001b[0m\u001b[0;34m:\u001b[0m\u001b[0;36m3000\u001b[0m\u001b[0;34m]\u001b[0m\u001b[0;34m,\u001b[0m\u001b[0mlabel\u001b[0m\u001b[0;34m=\u001b[0m\u001b[0;34m'grad'\u001b[0m\u001b[0;34m)\u001b[0m\u001b[0;34m\u001b[0m\u001b[0;34m\u001b[0m\u001b[0m\n\u001b[1;32m      5\u001b[0m \u001b[0mpylab\u001b[0m\u001b[0;34m.\u001b[0m\u001b[0mplot\u001b[0m\u001b[0;34m(\u001b[0m\u001b[0mells\u001b[0m\u001b[0;34m[\u001b[0m\u001b[0;34m:\u001b[0m\u001b[0;36m3000\u001b[0m\u001b[0;34m]\u001b[0m\u001b[0;34m,\u001b[0m\u001b[0mcurl_cl\u001b[0m\u001b[0;34m[\u001b[0m\u001b[0;34m:\u001b[0m\u001b[0;36m3000\u001b[0m\u001b[0;34m]\u001b[0m\u001b[0;34m,\u001b[0m\u001b[0mlabel\u001b[0m\u001b[0;34m=\u001b[0m\u001b[0;34m'curl'\u001b[0m\u001b[0;34m)\u001b[0m\u001b[0;34m\u001b[0m\u001b[0;34m\u001b[0m\u001b[0m\n",
      "\u001b[0;31mNameError\u001b[0m: name 'np' is not defined"
     ]
    }
   ],
   "source": [
    "%matplotlib inline\n",
    "import pylab\n",
    "ells = np.arange(0,mlmax+1)\n",
    "pylab.plot(ells[:3000],kappa_cl[:3000],label='grad')\n",
    "pylab.plot(ells[:3000],curl_cl[:3000],label='curl')\n",
    "pylab.yscale('log')\n",
    "pylab.legend()"
   ]
  },
  {
   "cell_type": "code",
   "execution_count": null,
   "metadata": {},
   "outputs": [],
   "source": [
    "Yep looks weird "
   ]
  },
  {
   "cell_type": "code",
   "execution_count": 20,
   "metadata": {},
   "outputs": [],
   "source": [
    "w2 = solenspipe.wfactor(2, mask)"
   ]
  },
  {
   "cell_type": "code",
   "execution_count": null,
   "metadata": {},
   "outputs": [],
   "source": []
  }
 ],
 "metadata": {
  "kernelspec": {
   "display_name": "LensPipe",
   "language": "python",
   "name": "lenspipe"
  },
  "language_info": {
   "codemirror_mode": {
    "name": "ipython",
    "version": 3
   },
   "file_extension": ".py",
   "mimetype": "text/x-python",
   "name": "python",
   "nbconvert_exporter": "python",
   "pygments_lexer": "ipython3",
   "version": "3.7.9"
  }
 },
 "nbformat": 4,
 "nbformat_minor": 4
}
